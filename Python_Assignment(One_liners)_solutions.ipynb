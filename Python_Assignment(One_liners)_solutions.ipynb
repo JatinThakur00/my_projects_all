{
 "cells": [
  {
   "cell_type": "code",
   "execution_count": null,
   "id": "a64a500d",
   "metadata": {},
   "outputs": [],
   "source": [
    "                                    # Python Assignment One Liners"
   ]
  },
  {
   "cell_type": "code",
   "execution_count": 2,
   "id": "56c161b2",
   "metadata": {},
   "outputs": [
    {
     "name": "stdout",
     "output_type": "stream",
     "text": [
      "Hello from Fun\n"
     ]
    }
   ],
   "source": [
    "#Write a program which contains one function named as Fun(). That function should display “Hello from Fun” on console.\n",
    "\n",
    "def fun():\n",
    "    print(\"Hello from Fun\")\n",
    "\n",
    "fun()"
   ]
  },
  {
   "cell_type": "code",
   "execution_count": null,
   "id": "4ef2ab6e",
   "metadata": {},
   "outputs": [],
   "source": []
  },
  {
   "cell_type": "code",
   "execution_count": 5,
   "id": "eeb6467e",
   "metadata": {},
   "outputs": [
    {
     "name": "stdout",
     "output_type": "stream",
     "text": [
      "please Enter the number:- 55\n",
      "Number is  odd\n"
     ]
    }
   ],
   "source": [
    "#  Write a program which contains one function named as ChkNum() which accept one\n",
    "#  parameter as number. If number is even then it should display “Even number” otherwise  display “Odd number” on console.\n",
    "\n",
    "\n",
    "def ChkNum(x):\n",
    "        \n",
    "    if (x%2 ==0):\n",
    "        print(\"Number is even\")\n",
    "    else:\n",
    "        print(\"Number is  odd\")\n",
    "\n",
    "\n",
    "x=(int(input(\"please Enter the number:- \")))\n",
    "ChkNum(x)"
   ]
  },
  {
   "cell_type": "code",
   "execution_count": null,
   "id": "ea3c2929",
   "metadata": {},
   "outputs": [],
   "source": []
  },
  {
   "cell_type": "code",
   "execution_count": 6,
   "id": "9c46426e",
   "metadata": {},
   "outputs": [
    {
     "name": "stdout",
     "output_type": "stream",
     "text": [
      "Enter 1st number22\n",
      "Enter 2nd number55\n",
      "Addition is= 77\n"
     ]
    }
   ],
   "source": [
    "#Write a program which contains one function named as Add() which accepts two numbers from user and return addition of that two numbers.\n",
    "\n",
    "def Add(x,y):\n",
    "\n",
    "    return x+y\n",
    "\n",
    "x=(int(input(\"Enter 1st number\")))\n",
    "y=(int(input(\"Enter 2nd number\")))\n",
    "print(\"Addition is=\",+Add(x,y))"
   ]
  },
  {
   "cell_type": "code",
   "execution_count": null,
   "id": "c4689266",
   "metadata": {},
   "outputs": [],
   "source": []
  },
  {
   "cell_type": "code",
   "execution_count": 7,
   "id": "ad995d27",
   "metadata": {},
   "outputs": [
    {
     "name": "stdout",
     "output_type": "stream",
     "text": [
      "MARVELLOUS\n",
      "MARVELLOUS\n",
      "MARVELLOUS\n",
      "MARVELLOUS\n",
      "MARVELLOUS\n"
     ]
    }
   ],
   "source": [
    "#Write a program which display 5 times Marvellous on screen.\n",
    "\n",
    "def printname():\n",
    "    for i  in range(5):\n",
    "        print(\"MARVELLOUS\")\n",
    "\n",
    "printname()"
   ]
  },
  {
   "cell_type": "code",
   "execution_count": null,
   "id": "ab7b59cf",
   "metadata": {},
   "outputs": [],
   "source": []
  },
  {
   "cell_type": "code",
   "execution_count": 12,
   "id": "28522841",
   "metadata": {},
   "outputs": [
    {
     "name": "stdout",
     "output_type": "stream",
     "text": [
      "10 9 8 7 6 5 4 3 2 1 "
     ]
    }
   ],
   "source": [
    "#Write a program which display 10 to 1 on screen.\n",
    "\n",
    "def Number():\n",
    "    i=10\n",
    "    while i>0:\n",
    "        print(i,end=\" \")\n",
    "        i-=1\n",
    "Number()"
   ]
  },
  {
   "cell_type": "code",
   "execution_count": null,
   "id": "75b88bd0",
   "metadata": {},
   "outputs": [],
   "source": []
  },
  {
   "cell_type": "code",
   "execution_count": 16,
   "id": "619e2bdb",
   "metadata": {},
   "outputs": [
    {
     "name": "stdout",
     "output_type": "stream",
     "text": [
      "Enter the  number5\n",
      "Number is positive\n"
     ]
    }
   ],
   "source": [
    "#Write a program which accept number from user and check whether that number is positive or negative or zero.\n",
    "\n",
    "def check_number(x):\n",
    "    if x>0:\n",
    "        print(\"Number is positive\")\n",
    "    elif x<0:\n",
    "        print(\"Number is  negative\")\n",
    "    elif x:=0:\n",
    "        print(\"Number is  zero\")\n",
    "\n",
    "x=(int(input(\"Enter the  number\")))\n",
    "check_number(x)"
   ]
  },
  {
   "cell_type": "code",
   "execution_count": null,
   "id": "3894815b",
   "metadata": {},
   "outputs": [],
   "source": []
  },
  {
   "cell_type": "code",
   "execution_count": 18,
   "id": "98606bd9",
   "metadata": {},
   "outputs": [
    {
     "name": "stdout",
     "output_type": "stream",
     "text": [
      "Enter the  number55\n"
     ]
    },
    {
     "data": {
      "text/plain": [
       "'true'"
      ]
     },
     "execution_count": 18,
     "metadata": {},
     "output_type": "execute_result"
    }
   ],
   "source": [
    "#Write a program which contains one function that accept one number from user and returns true \n",
    "#if number is divisible by 5 otherwise return false.\n",
    "\n",
    "def Number(x):\n",
    "    if (x%5 ==0):\n",
    "        return 'true'\n",
    "    else:\n",
    "        return 'false'\n",
    "\n",
    "x=(int(input(\"Enter the  number\")))\n",
    "Number(x)"
   ]
  },
  {
   "cell_type": "code",
   "execution_count": null,
   "id": "e53d552c",
   "metadata": {},
   "outputs": [],
   "source": []
  },
  {
   "cell_type": "code",
   "execution_count": 22,
   "id": "3dff9533",
   "metadata": {},
   "outputs": [
    {
     "name": "stdout",
     "output_type": "stream",
     "text": [
      "Enter the  number:5\n",
      "* * * * * "
     ]
    }
   ],
   "source": [
    "#Write a program which accept number from user and print that number of “*” on screen.\n",
    "\n",
    "def Print_Pattern(x):\n",
    "    for i in range(x):\n",
    "        print(\"*\",end=\" \")\n",
    "\n",
    "x=(int(input(\"Enter the  number:\")))\n",
    "Print_Pattern(x)"
   ]
  },
  {
   "cell_type": "code",
   "execution_count": null,
   "id": "986f98bc",
   "metadata": {},
   "outputs": [],
   "source": []
  },
  {
   "cell_type": "code",
   "execution_count": 26,
   "id": "a4422b55",
   "metadata": {},
   "outputs": [
    {
     "name": "stdout",
     "output_type": "stream",
     "text": [
      "2\n",
      "4\n",
      "6\n",
      "8\n",
      "10\n"
     ]
    }
   ],
   "source": [
    "#Write a program which display first 10 even numbers on screen.\n",
    "\n",
    "maximum = 10\n",
    "\n",
    "for number in range(1, 11):\n",
    "    \n",
    "    if number % 2 == 0:\n",
    "        print(number)\n",
    "    \n"
   ]
  },
  {
   "cell_type": "code",
   "execution_count": null,
   "id": "b1ee2513",
   "metadata": {},
   "outputs": [],
   "source": []
  },
  {
   "cell_type": "code",
   "execution_count": 30,
   "id": "85448693",
   "metadata": {},
   "outputs": [
    {
     "name": "stdout",
     "output_type": "stream",
     "text": [
      "Enter namejatin\n",
      "Length of name= 1\n",
      "Length of name= 2\n",
      "Length of name= 3\n",
      "Length of name= 4\n",
      "Length of name= 5\n"
     ]
    }
   ],
   "source": [
    "#Write a program which accept name from user and display length of its name.\n",
    "\n",
    "def name(x):\n",
    "    j=0\n",
    "    for i in x:\n",
    "        j=j+1\n",
    "        print(\"Length of name=\",+j)\n",
    "\n",
    "x=input(\"Enter name\")\n",
    "name(x)"
   ]
  },
  {
   "cell_type": "code",
   "execution_count": null,
   "id": "f38d3280",
   "metadata": {},
   "outputs": [],
   "source": []
  }
 ],
 "metadata": {
  "kernelspec": {
   "display_name": "Python 3 (ipykernel)",
   "language": "python",
   "name": "python3"
  },
  "language_info": {
   "codemirror_mode": {
    "name": "ipython",
    "version": 3
   },
   "file_extension": ".py",
   "mimetype": "text/x-python",
   "name": "python",
   "nbconvert_exporter": "python",
   "pygments_lexer": "ipython3",
   "version": "3.10.9"
  }
 },
 "nbformat": 4,
 "nbformat_minor": 5
}
