{
 "cells": [
  {
   "cell_type": "code",
   "execution_count": null,
   "id": "6d754d6c",
   "metadata": {},
   "outputs": [],
   "source": [
    "                                            # Numpy Assignment 2"
   ]
  },
  {
   "cell_type": "code",
   "execution_count": null,
   "id": "b1eec839",
   "metadata": {},
   "outputs": [],
   "source": []
  },
  {
   "cell_type": "code",
   "execution_count": null,
   "id": "f7f37012",
   "metadata": {},
   "outputs": [],
   "source": [
    "#Q1\n",
    "#create a 5x5 matrix with row values ranging from 0 to 4"
   ]
  },
  {
   "cell_type": "code",
   "execution_count": null,
   "id": "7e75ee2d",
   "metadata": {},
   "outputs": [],
   "source": []
  },
  {
   "cell_type": "code",
   "execution_count": 1,
   "id": "daad28ed",
   "metadata": {},
   "outputs": [],
   "source": [
    "import numpy as np\n",
    "import pandas as pd"
   ]
  },
  {
   "cell_type": "code",
   "execution_count": null,
   "id": "371e6a06",
   "metadata": {},
   "outputs": [],
   "source": []
  },
  {
   "cell_type": "code",
   "execution_count": 2,
   "id": "a6fcbeaa",
   "metadata": {},
   "outputs": [
    {
     "name": "stdout",
     "output_type": "stream",
     "text": [
      "Original array:\n",
      "[[0. 0. 0. 0. 0.]\n",
      " [0. 0. 0. 0. 0.]\n",
      " [0. 0. 0. 0. 0.]\n",
      " [0. 0. 0. 0. 0.]\n",
      " [0. 0. 0. 0. 0.]]\n",
      "Row values ranging from 0 to 4.\n",
      "[[0. 1. 2. 3. 4.]\n",
      " [0. 1. 2. 3. 4.]\n",
      " [0. 1. 2. 3. 4.]\n",
      " [0. 1. 2. 3. 4.]\n",
      " [0. 1. 2. 3. 4.]]\n"
     ]
    }
   ],
   "source": [
    "x3 = np.zeros((5,5))\n",
    "print(\"Original array:\")\n",
    "print(x3)\n",
    "print(\"Row values ranging from 0 to 4.\")\n",
    "x3 += np.arange(5)\n",
    "print(x3)"
   ]
  },
  {
   "cell_type": "code",
   "execution_count": null,
   "id": "4c3cc42c",
   "metadata": {},
   "outputs": [],
   "source": []
  },
  {
   "cell_type": "code",
   "execution_count": null,
   "id": "ecb460c4",
   "metadata": {},
   "outputs": [],
   "source": [
    "#Q2\n",
    "#multiply a 5x3 matrix by a 3x2 matrix(real matrix product)"
   ]
  },
  {
   "cell_type": "code",
   "execution_count": null,
   "id": "e0fd009d",
   "metadata": {},
   "outputs": [],
   "source": []
  },
  {
   "cell_type": "code",
   "execution_count": 3,
   "id": "5214c17e",
   "metadata": {},
   "outputs": [
    {
     "name": "stdout",
     "output_type": "stream",
     "text": [
      "First array:\n",
      "[[0.66061342 0.70199878 0.82892373]\n",
      " [0.69960269 0.51045876 0.08163815]\n",
      " [0.76342891 0.26693484 0.36521868]\n",
      " [0.27651176 0.12222115 0.04020175]\n",
      " [0.01005215 0.1243555  0.51247288]]\n",
      "Second array:\n",
      "[[0.27706436 0.30940039]\n",
      " [0.44796244 0.54167331]\n",
      " [0.71610159 0.85093038]]\n",
      "product of two arrays:\n",
      "[[1.09109512 1.29000444]\n",
      " [0.48096253 0.56242762]\n",
      " [0.59262939 0.69157235]\n",
      " [0.16015058 0.18596567]\n",
      " [0.42547433 0.50654894]]\n"
     ]
    }
   ],
   "source": [
    "x = np.random.random((5,3))\n",
    "print(\"First array:\")\n",
    "print(x)\n",
    "y = np.random.random((3,2))\n",
    "print(\"Second array:\")\n",
    "print(y)\n",
    "z = np.dot(x, y)\n",
    "print(\"product of two arrays:\")\n",
    "print(z)"
   ]
  },
  {
   "cell_type": "code",
   "execution_count": null,
   "id": "4afd6ddc",
   "metadata": {},
   "outputs": [],
   "source": []
  },
  {
   "cell_type": "code",
   "execution_count": null,
   "id": "da7e2e69",
   "metadata": {},
   "outputs": [],
   "source": [
    "#Q3 \n",
    "\n",
    "# What is the result of the following expression ? "
   ]
  },
  {
   "cell_type": "code",
   "execution_count": null,
   "id": "de4ca954",
   "metadata": {},
   "outputs": [],
   "source": []
  },
  {
   "cell_type": "code",
   "execution_count": 4,
   "id": "57d4f68b",
   "metadata": {},
   "outputs": [
    {
     "data": {
      "text/plain": [
       "nan"
      ]
     },
     "execution_count": 4,
     "metadata": {},
     "output_type": "execute_result"
    }
   ],
   "source": [
    "0 * np.nan"
   ]
  },
  {
   "cell_type": "code",
   "execution_count": null,
   "id": "5e1f7431",
   "metadata": {},
   "outputs": [],
   "source": []
  },
  {
   "cell_type": "code",
   "execution_count": 5,
   "id": "c17f3ec8",
   "metadata": {},
   "outputs": [
    {
     "data": {
      "text/plain": [
       "False"
      ]
     },
     "execution_count": 5,
     "metadata": {},
     "output_type": "execute_result"
    }
   ],
   "source": [
    "np.nan == np.nan"
   ]
  },
  {
   "cell_type": "code",
   "execution_count": null,
   "id": "4c717945",
   "metadata": {},
   "outputs": [],
   "source": []
  },
  {
   "cell_type": "code",
   "execution_count": 6,
   "id": "29348c57",
   "metadata": {},
   "outputs": [
    {
     "data": {
      "text/plain": [
       "False"
      ]
     },
     "execution_count": 6,
     "metadata": {},
     "output_type": "execute_result"
    }
   ],
   "source": [
    "np.inf > np.nan"
   ]
  },
  {
   "cell_type": "code",
   "execution_count": null,
   "id": "8b684b22",
   "metadata": {},
   "outputs": [],
   "source": []
  },
  {
   "cell_type": "code",
   "execution_count": 7,
   "id": "2d7ec325",
   "metadata": {},
   "outputs": [
    {
     "data": {
      "text/plain": [
       "nan"
      ]
     },
     "execution_count": 7,
     "metadata": {},
     "output_type": "execute_result"
    }
   ],
   "source": [
    "np.nan - np.nan"
   ]
  },
  {
   "cell_type": "code",
   "execution_count": null,
   "id": "314c31d8",
   "metadata": {},
   "outputs": [],
   "source": []
  },
  {
   "cell_type": "code",
   "execution_count": 8,
   "id": "470d2e0e",
   "metadata": {},
   "outputs": [
    {
     "data": {
      "text/plain": [
       "True"
      ]
     },
     "execution_count": 8,
     "metadata": {},
     "output_type": "execute_result"
    }
   ],
   "source": [
    "np.nan in set ([np.nan])"
   ]
  },
  {
   "cell_type": "code",
   "execution_count": null,
   "id": "4e2c601e",
   "metadata": {},
   "outputs": [],
   "source": []
  },
  {
   "cell_type": "code",
   "execution_count": 9,
   "id": "3603d4c8",
   "metadata": {},
   "outputs": [
    {
     "data": {
      "text/plain": [
       "False"
      ]
     },
     "execution_count": 9,
     "metadata": {},
     "output_type": "execute_result"
    }
   ],
   "source": [
    "0.3 == 3*0.1"
   ]
  },
  {
   "cell_type": "code",
   "execution_count": null,
   "id": "1609028c",
   "metadata": {},
   "outputs": [],
   "source": []
  },
  {
   "cell_type": "code",
   "execution_count": null,
   "id": "807b9123",
   "metadata": {},
   "outputs": [],
   "source": [
    "#Q4\n",
    "#create a 10x10 array with random values and find the minimum and maximum values "
   ]
  },
  {
   "cell_type": "code",
   "execution_count": null,
   "id": "1bae2509",
   "metadata": {},
   "outputs": [],
   "source": []
  },
  {
   "cell_type": "code",
   "execution_count": 14,
   "id": "fedc89b8",
   "metadata": {},
   "outputs": [
    {
     "data": {
      "text/plain": [
       "array([[0.14871998, 0.99918246, 0.84331984, 0.2326823 , 0.44990556,\n",
       "        0.27424751, 0.36886987, 0.16877133, 0.18968944, 0.28808863],\n",
       "       [0.81385388, 0.90034999, 0.29595954, 0.75810747, 0.98987888,\n",
       "        0.21082498, 0.03919492, 0.45658844, 0.40370634, 0.29362097],\n",
       "       [0.18535789, 0.23325515, 0.30820513, 0.60018384, 0.74809539,\n",
       "        0.29489039, 0.05934613, 0.66162454, 0.59457307, 0.03610392],\n",
       "       [0.50916008, 0.65453747, 0.58389249, 0.97165338, 0.59390032,\n",
       "        0.7410359 , 0.80083075, 0.6516494 , 0.6532892 , 0.0141429 ],\n",
       "       [0.759612  , 0.10057411, 0.32432028, 0.31582439, 0.15239896,\n",
       "        0.17786679, 0.92267678, 0.61423251, 0.74906542, 0.86342975],\n",
       "       [0.67742966, 0.03653986, 0.21016281, 0.38956323, 0.54987951,\n",
       "        0.50993114, 0.71904675, 0.78607992, 0.1740031 , 0.5372601 ],\n",
       "       [0.2051484 , 0.10472946, 0.33901968, 0.70554348, 0.99966863,\n",
       "        0.79845035, 0.68085012, 0.07937561, 0.96632446, 0.4068419 ],\n",
       "       [0.37236134, 0.86081068, 0.95212608, 0.01210827, 0.6679265 ,\n",
       "        0.00962761, 0.83942468, 0.18140342, 0.50996027, 0.08044277],\n",
       "       [0.10447615, 0.58097578, 0.25527091, 0.14958191, 0.10975314,\n",
       "        0.28289549, 0.70349453, 0.13307723, 0.85015851, 0.3322608 ],\n",
       "       [0.6004579 , 0.8406022 , 0.41019011, 0.5863516 , 0.64379394,\n",
       "        0.42450716, 0.63608078, 0.32959077, 0.47651086, 0.34221951]])"
      ]
     },
     "execution_count": 14,
     "metadata": {},
     "output_type": "execute_result"
    }
   ],
   "source": [
    "ran = np.random.random((10,10))\n",
    "ran"
   ]
  },
  {
   "cell_type": "code",
   "execution_count": null,
   "id": "aee10dac",
   "metadata": {},
   "outputs": [],
   "source": []
  },
  {
   "cell_type": "code",
   "execution_count": 15,
   "id": "62802b35",
   "metadata": {},
   "outputs": [
    {
     "name": "stdout",
     "output_type": "stream",
     "text": [
      "The minimum value is\n"
     ]
    },
    {
     "data": {
      "text/plain": [
       "0.009627612470979652"
      ]
     },
     "execution_count": 15,
     "metadata": {},
     "output_type": "execute_result"
    }
   ],
   "source": [
    "print(\"The minimum value is\")\n",
    "ran.min()"
   ]
  },
  {
   "cell_type": "code",
   "execution_count": null,
   "id": "2face2a3",
   "metadata": {},
   "outputs": [],
   "source": []
  },
  {
   "cell_type": "code",
   "execution_count": 16,
   "id": "69daa4f5",
   "metadata": {},
   "outputs": [
    {
     "name": "stdout",
     "output_type": "stream",
     "text": [
      "The maximum value is\n"
     ]
    },
    {
     "data": {
      "text/plain": [
       "0.9996686267348152"
      ]
     },
     "execution_count": 16,
     "metadata": {},
     "output_type": "execute_result"
    }
   ],
   "source": [
    "print(\"The maximum value is\")\n",
    "ran.max()"
   ]
  },
  {
   "cell_type": "code",
   "execution_count": null,
   "id": "15c6ba4b",
   "metadata": {},
   "outputs": [],
   "source": []
  },
  {
   "cell_type": "code",
   "execution_count": null,
   "id": "4d14a91b",
   "metadata": {},
   "outputs": [],
   "source": [
    "#Q5\n",
    "#Create a null vector of size 10 but the fifth value which is 1"
   ]
  },
  {
   "cell_type": "code",
   "execution_count": null,
   "id": "725a9f27",
   "metadata": {},
   "outputs": [],
   "source": []
  },
  {
   "cell_type": "code",
   "execution_count": 13,
   "id": "ec89b459",
   "metadata": {},
   "outputs": [
    {
     "data": {
      "text/plain": [
       "array([0, 0, 0, 0, 1, 0, 0, 0, 0, 0])"
      ]
     },
     "execution_count": 13,
     "metadata": {},
     "output_type": "execute_result"
    }
   ],
   "source": [
    "x4 = np. zeros(10, dtype=int)\n",
    "x4[4] = 1 \n",
    "x4"
   ]
  },
  {
   "cell_type": "code",
   "execution_count": null,
   "id": "44958b0b",
   "metadata": {},
   "outputs": [],
   "source": []
  }
 ],
 "metadata": {
  "kernelspec": {
   "display_name": "Python 3 (ipykernel)",
   "language": "python",
   "name": "python3"
  },
  "language_info": {
   "codemirror_mode": {
    "name": "ipython",
    "version": 3
   },
   "file_extension": ".py",
   "mimetype": "text/x-python",
   "name": "python",
   "nbconvert_exporter": "python",
   "pygments_lexer": "ipython3",
   "version": "3.10.9"
  }
 },
 "nbformat": 4,
 "nbformat_minor": 5
}
