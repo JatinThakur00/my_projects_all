{
 "cells": [
  {
   "cell_type": "code",
   "execution_count": 1,
   "id": "a50972c7",
   "metadata": {},
   "outputs": [],
   "source": [
    "                                                 # Python Exercise word"
   ]
  },
  {
   "cell_type": "code",
   "execution_count": null,
   "id": "247eb1b0",
   "metadata": {},
   "outputs": [],
   "source": []
  },
  {
   "cell_type": "code",
   "execution_count": 2,
   "id": "ed3c8b65",
   "metadata": {},
   "outputs": [],
   "source": [
    "                                                  # Part 1 "
   ]
  },
  {
   "cell_type": "code",
   "execution_count": null,
   "id": "ccd2fb80",
   "metadata": {},
   "outputs": [],
   "source": []
  },
  {
   "cell_type": "code",
   "execution_count": 4,
   "id": "d1bb9e4f",
   "metadata": {},
   "outputs": [],
   "source": [
    "#1 What are the escape sequences in python?  "
   ]
  },
  {
   "cell_type": "code",
   "execution_count": null,
   "id": "4d8f1327",
   "metadata": {},
   "outputs": [],
   "source": [
    "# Ans:-  An escape sequence is a sequence of characters that, when used inside a character or string, \n",
    "#        does not represent itself but is converted into another character or series of characters."
   ]
  },
  {
   "cell_type": "code",
   "execution_count": null,
   "id": "e69fdbb8",
   "metadata": {},
   "outputs": [],
   "source": []
  },
  {
   "cell_type": "code",
   "execution_count": 5,
   "id": "ac99e900",
   "metadata": {},
   "outputs": [],
   "source": [
    "#2 What is the result of f\"{2+2}+{10%3}\" ?"
   ]
  },
  {
   "cell_type": "code",
   "execution_count": 6,
   "id": "1bc97a72",
   "metadata": {},
   "outputs": [
    {
     "data": {
      "text/plain": [
       "'4+1'"
      ]
     },
     "execution_count": 6,
     "metadata": {},
     "output_type": "execute_result"
    }
   ],
   "source": [
    "f\"{2+2}+{10%3}\""
   ]
  },
  {
   "cell_type": "code",
   "execution_count": null,
   "id": "a3f96069",
   "metadata": {},
   "outputs": [],
   "source": []
  },
  {
   "cell_type": "code",
   "execution_count": null,
   "id": "26941f01",
   "metadata": {},
   "outputs": [],
   "source": [
    "#3 Given (name = \"john smith\"), What will name.title() return ?"
   ]
  },
  {
   "cell_type": "code",
   "execution_count": 8,
   "id": "51ebb608",
   "metadata": {},
   "outputs": [
    {
     "data": {
      "text/plain": [
       "'John Smith'"
      ]
     },
     "execution_count": 8,
     "metadata": {},
     "output_type": "execute_result"
    }
   ],
   "source": [
    "name = \"john smith\"\n",
    "name.title()"
   ]
  },
  {
   "cell_type": "code",
   "execution_count": null,
   "id": "abbe27a0",
   "metadata": {},
   "outputs": [],
   "source": []
  },
  {
   "cell_type": "code",
   "execution_count": 9,
   "id": "12001e66",
   "metadata": {},
   "outputs": [],
   "source": [
    "#4 What does name.strip() do?"
   ]
  },
  {
   "cell_type": "code",
   "execution_count": 10,
   "id": "b864292b",
   "metadata": {},
   "outputs": [
    {
     "data": {
      "text/plain": [
       "'john smith'"
      ]
     },
     "execution_count": 10,
     "metadata": {},
     "output_type": "execute_result"
    }
   ],
   "source": [
    "name.strip()"
   ]
  },
  {
   "cell_type": "code",
   "execution_count": null,
   "id": "589caa06",
   "metadata": {},
   "outputs": [],
   "source": []
  },
  {
   "cell_type": "code",
   "execution_count": 11,
   "id": "8f3a53e8",
   "metadata": {},
   "outputs": [],
   "source": [
    "#5 What is the difference between 10/3 and 10//3 ?"
   ]
  },
  {
   "cell_type": "code",
   "execution_count": null,
   "id": "91701689",
   "metadata": {},
   "outputs": [],
   "source": []
  },
  {
   "cell_type": "code",
   "execution_count": 12,
   "id": "da48f169",
   "metadata": {},
   "outputs": [
    {
     "data": {
      "text/plain": [
       "3.3333333333333335"
      ]
     },
     "execution_count": 12,
     "metadata": {},
     "output_type": "execute_result"
    }
   ],
   "source": [
    "10/3"
   ]
  },
  {
   "cell_type": "code",
   "execution_count": null,
   "id": "c75af23a",
   "metadata": {},
   "outputs": [],
   "source": []
  },
  {
   "cell_type": "code",
   "execution_count": 13,
   "id": "29630f5e",
   "metadata": {},
   "outputs": [
    {
     "data": {
      "text/plain": [
       "3"
      ]
     },
     "execution_count": 13,
     "metadata": {},
     "output_type": "execute_result"
    }
   ],
   "source": [
    "10//3"
   ]
  },
  {
   "cell_type": "code",
   "execution_count": null,
   "id": "d43a2fd1",
   "metadata": {},
   "outputs": [],
   "source": []
  },
  {
   "cell_type": "code",
   "execution_count": null,
   "id": "ddffb410",
   "metadata": {},
   "outputs": [],
   "source": [
    "                                              # Part 2 "
   ]
  },
  {
   "cell_type": "code",
   "execution_count": null,
   "id": "64abffac",
   "metadata": {},
   "outputs": [],
   "source": []
  },
  {
   "cell_type": "code",
   "execution_count": 14,
   "id": "2679224c",
   "metadata": {},
   "outputs": [],
   "source": [
    "#1 What is the result of 10 ** 3?"
   ]
  },
  {
   "cell_type": "code",
   "execution_count": null,
   "id": "5c8f5b0d",
   "metadata": {},
   "outputs": [],
   "source": []
  },
  {
   "cell_type": "code",
   "execution_count": 15,
   "id": "dde7ac7f",
   "metadata": {},
   "outputs": [
    {
     "data": {
      "text/plain": [
       "1000"
      ]
     },
     "execution_count": 15,
     "metadata": {},
     "output_type": "execute_result"
    }
   ],
   "source": [
    "10 ** 3"
   ]
  },
  {
   "cell_type": "code",
   "execution_count": null,
   "id": "903ddcd7",
   "metadata": {},
   "outputs": [],
   "source": []
  },
  {
   "cell_type": "code",
   "execution_count": null,
   "id": "e25447ea",
   "metadata": {},
   "outputs": [],
   "source": [
    "#2 Given (x = 1), what will be the value of after we run (x += 2)?"
   ]
  },
  {
   "cell_type": "code",
   "execution_count": null,
   "id": "bef0eb47",
   "metadata": {},
   "outputs": [],
   "source": []
  },
  {
   "cell_type": "code",
   "execution_count": 17,
   "id": "7dee61fe",
   "metadata": {},
   "outputs": [
    {
     "name": "stdout",
     "output_type": "stream",
     "text": [
      "3\n"
     ]
    }
   ],
   "source": [
    "x = 1\n",
    "x += 2\n",
    "\n",
    "print(x)"
   ]
  },
  {
   "cell_type": "code",
   "execution_count": null,
   "id": "ec08a57a",
   "metadata": {},
   "outputs": [],
   "source": []
  },
  {
   "cell_type": "code",
   "execution_count": null,
   "id": "07568b4b",
   "metadata": {},
   "outputs": [],
   "source": [
    "#3 How can we round a number?"
   ]
  },
  {
   "cell_type": "code",
   "execution_count": null,
   "id": "8e9b29c0",
   "metadata": {},
   "outputs": [],
   "source": [
    "# With the use of in-built function round()"
   ]
  },
  {
   "cell_type": "code",
   "execution_count": 21,
   "id": "a3e66384",
   "metadata": {},
   "outputs": [
    {
     "name": "stdout",
     "output_type": "stream",
     "text": [
      "2\n"
     ]
    }
   ],
   "source": [
    "print(round(2.4))"
   ]
  },
  {
   "cell_type": "code",
   "execution_count": null,
   "id": "9d0c2c91",
   "metadata": {},
   "outputs": [],
   "source": []
  },
  {
   "cell_type": "code",
   "execution_count": null,
   "id": "d8c84031",
   "metadata": {},
   "outputs": [],
   "source": [
    "#4 What is the result of float(1)?"
   ]
  },
  {
   "cell_type": "code",
   "execution_count": null,
   "id": "2a524fef",
   "metadata": {},
   "outputs": [],
   "source": []
  },
  {
   "cell_type": "code",
   "execution_count": 22,
   "id": "119a3a2b",
   "metadata": {},
   "outputs": [
    {
     "data": {
      "text/plain": [
       "1.0"
      ]
     },
     "execution_count": 22,
     "metadata": {},
     "output_type": "execute_result"
    }
   ],
   "source": [
    "float(1)"
   ]
  },
  {
   "cell_type": "code",
   "execution_count": null,
   "id": "ed495cae",
   "metadata": {},
   "outputs": [],
   "source": []
  },
  {
   "cell_type": "code",
   "execution_count": null,
   "id": "a9c8ef73",
   "metadata": {},
   "outputs": [],
   "source": [
    "#5 What is the result of bool(“False”)?"
   ]
  },
  {
   "cell_type": "code",
   "execution_count": 23,
   "id": "183d5204",
   "metadata": {},
   "outputs": [
    {
     "data": {
      "text/plain": [
       "True"
      ]
     },
     "execution_count": 23,
     "metadata": {},
     "output_type": "execute_result"
    }
   ],
   "source": [
    "bool(\"false\")"
   ]
  },
  {
   "cell_type": "code",
   "execution_count": null,
   "id": "2714bc27",
   "metadata": {},
   "outputs": [],
   "source": []
  },
  {
   "cell_type": "code",
   "execution_count": null,
   "id": "dec3ba99",
   "metadata": {},
   "outputs": [],
   "source": [
    "#6 What are the falsy values in Python?\n"
   ]
  },
  {
   "cell_type": "code",
   "execution_count": null,
   "id": "55116302",
   "metadata": {},
   "outputs": [],
   "source": [
    "Falsy values include empty sequences and collections (lists, tuples, strings, dictionaries, sets), \n",
    "zero in every numeric type, None, and False."
   ]
  },
  {
   "cell_type": "code",
   "execution_count": null,
   "id": "aaa08f86",
   "metadata": {},
   "outputs": [],
   "source": []
  },
  {
   "cell_type": "code",
   "execution_count": null,
   "id": "2e22c6da",
   "metadata": {},
   "outputs": [],
   "source": [
    "#7  What is the result of 10 == \"10\"?"
   ]
  },
  {
   "cell_type": "code",
   "execution_count": 24,
   "id": "134079a4",
   "metadata": {},
   "outputs": [
    {
     "data": {
      "text/plain": [
       "False"
      ]
     },
     "execution_count": 24,
     "metadata": {},
     "output_type": "execute_result"
    }
   ],
   "source": [
    "10 == \"10\""
   ]
  },
  {
   "cell_type": "code",
   "execution_count": null,
   "id": "b0eda653",
   "metadata": {},
   "outputs": [],
   "source": []
  },
  {
   "cell_type": "code",
   "execution_count": null,
   "id": "a7e1bfdc",
   "metadata": {},
   "outputs": [],
   "source": [
    "#8 What is the result of “bag” > “apple”?\n"
   ]
  },
  {
   "cell_type": "code",
   "execution_count": 25,
   "id": "8f4c3aa1",
   "metadata": {},
   "outputs": [
    {
     "ename": "SyntaxError",
     "evalue": "invalid character '“' (U+201C) (2282881314.py, line 1)",
     "output_type": "error",
     "traceback": [
      "\u001b[1;36m  Cell \u001b[1;32mIn[25], line 1\u001b[1;36m\u001b[0m\n\u001b[1;33m    “bag” > “apple”\u001b[0m\n\u001b[1;37m    ^\u001b[0m\n\u001b[1;31mSyntaxError\u001b[0m\u001b[1;31m:\u001b[0m invalid character '“' (U+201C)\n"
     ]
    }
   ],
   "source": [
    "“bag” > “apple”"
   ]
  },
  {
   "cell_type": "code",
   "execution_count": null,
   "id": "e05b20dd",
   "metadata": {},
   "outputs": [],
   "source": []
  },
  {
   "cell_type": "code",
   "execution_count": null,
   "id": "66608cb9",
   "metadata": {},
   "outputs": [],
   "source": [
    "#9 What is the result of not(True or False)?"
   ]
  },
  {
   "cell_type": "code",
   "execution_count": 26,
   "id": "8aaa4c48",
   "metadata": {},
   "outputs": [
    {
     "data": {
      "text/plain": [
       "False"
      ]
     },
     "execution_count": 26,
     "metadata": {},
     "output_type": "execute_result"
    }
   ],
   "source": [
    "not(True or False)"
   ]
  },
  {
   "cell_type": "code",
   "execution_count": null,
   "id": "6e76f430",
   "metadata": {},
   "outputs": [],
   "source": []
  },
  {
   "cell_type": "code",
   "execution_count": null,
   "id": "5c844470",
   "metadata": {},
   "outputs": [],
   "source": [
    "#10  Under what circumstances does the expression 18 <= age < 65 evaluate to True?"
   ]
  },
  {
   "cell_type": "code",
   "execution_count": null,
   "id": "5fada5e1",
   "metadata": {},
   "outputs": [],
   "source": []
  },
  {
   "cell_type": "code",
   "execution_count": 28,
   "id": "cff77938",
   "metadata": {},
   "outputs": [
    {
     "data": {
      "text/plain": [
       "True"
      ]
     },
     "execution_count": 28,
     "metadata": {},
     "output_type": "execute_result"
    }
   ],
   "source": [
    "age = 18 \n",
    "18 <= age < 65                 # if the age is greater than equal to 18 and less than 65 the condition would be true. "
   ]
  },
  {
   "cell_type": "code",
   "execution_count": null,
   "id": "7510e237",
   "metadata": {},
   "outputs": [],
   "source": []
  },
  {
   "cell_type": "code",
   "execution_count": 30,
   "id": "963e4550",
   "metadata": {},
   "outputs": [
    {
     "data": {
      "text/plain": [
       "False"
      ]
     },
     "execution_count": 30,
     "metadata": {},
     "output_type": "execute_result"
    }
   ],
   "source": [
    "age = 17                             # Otherwise it will be false\n",
    "18 <= age < 65"
   ]
  },
  {
   "cell_type": "code",
   "execution_count": null,
   "id": "13799a09",
   "metadata": {},
   "outputs": [],
   "source": []
  },
  {
   "cell_type": "code",
   "execution_count": 31,
   "id": "3cba293c",
   "metadata": {},
   "outputs": [
    {
     "data": {
      "text/plain": [
       "False"
      ]
     },
     "execution_count": 31,
     "metadata": {},
     "output_type": "execute_result"
    }
   ],
   "source": [
    "age = 66\n",
    "18 <= age < 65                        # Otherwise it will be false"
   ]
  },
  {
   "cell_type": "code",
   "execution_count": null,
   "id": "59d8b3ad",
   "metadata": {},
   "outputs": [],
   "source": []
  },
  {
   "cell_type": "code",
   "execution_count": null,
   "id": "3632b784",
   "metadata": {},
   "outputs": [],
   "source": [
    "#11  What does range(1, 10, 2) return?"
   ]
  },
  {
   "cell_type": "code",
   "execution_count": null,
   "id": "c4bd0ccd",
   "metadata": {},
   "outputs": [],
   "source": []
  },
  {
   "cell_type": "code",
   "execution_count": 38,
   "id": "c065132e",
   "metadata": {},
   "outputs": [
    {
     "name": "stdout",
     "output_type": "stream",
     "text": [
      "[1, 3, 5, 7, 9]\n"
     ]
    }
   ],
   "source": [
    "print(list(range(1,10,2)))            # start from 1, End at 10 with step of 2. "
   ]
  },
  {
   "cell_type": "code",
   "execution_count": null,
   "id": "c58c30ee",
   "metadata": {},
   "outputs": [],
   "source": []
  },
  {
   "cell_type": "code",
   "execution_count": null,
   "id": "40260a86",
   "metadata": {},
   "outputs": [],
   "source": [
    "#12  Name 3 iterable objects in Python."
   ]
  },
  {
   "cell_type": "code",
   "execution_count": null,
   "id": "dc610e54",
   "metadata": {},
   "outputs": [],
   "source": [
    "# Ans :- \n",
    "#The three iterable objects in python:-\n",
    "#Lists, tuples, sets "
   ]
  },
  {
   "cell_type": "code",
   "execution_count": null,
   "id": "85e3fbc0",
   "metadata": {},
   "outputs": [],
   "source": []
  },
  {
   "cell_type": "code",
   "execution_count": null,
   "id": "a57e109b",
   "metadata": {},
   "outputs": [],
   "source": [
    "                                            # Part 3 "
   ]
  },
  {
   "cell_type": "code",
   "execution_count": null,
   "id": "36963818",
   "metadata": {},
   "outputs": [],
   "source": []
  },
  {
   "cell_type": "code",
   "execution_count": null,
   "id": "b6ac5e3e",
   "metadata": {},
   "outputs": [],
   "source": [
    "#1  What are keyword arguments and when should we use them?"
   ]
  },
  {
   "cell_type": "code",
   "execution_count": null,
   "id": "ae470330",
   "metadata": {},
   "outputs": [],
   "source": [
    "#Ans:-   Keyword arguments (or named arguments) are values that, when passed into a function, \n",
    "\n",
    "        #are identifiable by specific parameter names. A keyword argument is preceded by a parameter and the assignment operator, = .\n",
    "\n",
    "       #Keyword arguments can be likened to dictionaries in that they map a value to a keyword."
   ]
  },
  {
   "cell_type": "code",
   "execution_count": null,
   "id": "3b45e6fb",
   "metadata": {},
   "outputs": [],
   "source": []
  },
  {
   "cell_type": "code",
   "execution_count": null,
   "id": "352f2872",
   "metadata": {},
   "outputs": [],
   "source": [
    "#2 Write a function that returns the maximum of two numbers."
   ]
  },
  {
   "cell_type": "code",
   "execution_count": 40,
   "id": "3f34b584",
   "metadata": {},
   "outputs": [
    {
     "name": "stdout",
     "output_type": "stream",
     "text": [
      "4\n"
     ]
    }
   ],
   "source": [
    "def maximum(a, b):\n",
    "     \n",
    "    if a >= b:\n",
    "        return a\n",
    "    else:\n",
    "        return b\n",
    "     \n",
    "a = 2\n",
    "b = 4\n",
    "print(maximum(a, b))"
   ]
  },
  {
   "cell_type": "code",
   "execution_count": null,
   "id": "cc84a32e",
   "metadata": {},
   "outputs": [],
   "source": []
  },
  {
   "cell_type": "code",
   "execution_count": null,
   "id": "824c6205",
   "metadata": {},
   "outputs": [],
   "source": [
    "#3\n",
    "\n",
    "#  Write a function called fizz_buzz that takes a number.\n",
    "#  1. If the number is divisible by 3, it should return “Fizz”.\n",
    "#  2. If it is divisible by 5, it should return “Buzz”.\n",
    "#  3. If it is divisible by both 3 and 5, it should return “FizzBuzz”.\n",
    "#  4. Otherwise, it should return the same number"
   ]
  },
  {
   "cell_type": "code",
   "execution_count": null,
   "id": "56cbec89",
   "metadata": {},
   "outputs": [],
   "source": []
  },
  {
   "cell_type": "code",
   "execution_count": 66,
   "id": "acaeaf88",
   "metadata": {},
   "outputs": [
    {
     "name": "stdout",
     "output_type": "stream",
     "text": [
      "Enter a number: 9\n"
     ]
    },
    {
     "data": {
      "text/plain": [
       "'Fizz'"
      ]
     },
     "execution_count": 66,
     "metadata": {},
     "output_type": "execute_result"
    }
   ],
   "source": [
    "def fizz_buzz(num):\n",
    "    \n",
    "    if num % 3 == 0:\n",
    "\n",
    "        return \"Fizz\"\n",
    "    \n",
    "    elif num % 5 == 0:\n",
    "\n",
    "        return \"Buzz\"\n",
    "\n",
    "    elif num % 3 == 0 and num % 5 == 0:\n",
    "\n",
    "        return \"FizzBuzz\"\n",
    "    \n",
    "    else:\n",
    "        return \"num\"\n",
    "    \n",
    "num = int(input(\"Enter a number: \"))\n",
    "fizz_buzz(num)"
   ]
  },
  {
   "cell_type": "code",
   "execution_count": null,
   "id": "8b84663b",
   "metadata": {},
   "outputs": [],
   "source": []
  }
 ],
 "metadata": {
  "kernelspec": {
   "display_name": "Python 3 (ipykernel)",
   "language": "python",
   "name": "python3"
  },
  "language_info": {
   "codemirror_mode": {
    "name": "ipython",
    "version": 3
   },
   "file_extension": ".py",
   "mimetype": "text/x-python",
   "name": "python",
   "nbconvert_exporter": "python",
   "pygments_lexer": "ipython3",
   "version": "3.10.9"
  }
 },
 "nbformat": 4,
 "nbformat_minor": 5
}
