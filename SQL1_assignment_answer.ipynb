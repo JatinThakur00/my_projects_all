{
  "nbformat": 4,
  "nbformat_minor": 0,
  "metadata": {
    "colab": {
      "provenance": []
    },
    "kernelspec": {
      "name": "python3",
      "display_name": "Python 3"
    },
    "language_info": {
      "name": "python"
    }
  },
  "cells": [
    {
      "cell_type": "code",
      "execution_count": 1,
      "metadata": {
        "id": "hoBRwbi_fqCV"
      },
      "outputs": [],
      "source": [
        "import numpy as np;\n",
        "import sqlite3"
      ]
    },
    {
      "cell_type": "code",
      "source": [
        "create_table='''CREATE TABLE Ages (\n",
        "  name VARCHAR(128),\n",
        "  age INTEGER\n",
        ")'''\n"
      ],
      "metadata": {
        "id": "9zRHWrLVfv-N"
      },
      "execution_count": 2,
      "outputs": []
    },
    {
      "cell_type": "code",
      "source": [
        "connection = sqlite3.connect('ages.db') #  connects to a SQLite database file named \"ages.db\" (or creates it if it doesn't exist)\n",
        "cursor = connection.cursor()\n",
        "cursor.execute(create_table)"
      ],
      "metadata": {
        "colab": {
          "base_uri": "https://localhost:8080/"
        },
        "id": "GG-8lnKMfzJ_",
        "outputId": "ccbd118c-5e14-42ea-8fb8-b74f9cc532e2"
      },
      "execution_count": 3,
      "outputs": [
        {
          "output_type": "execute_result",
          "data": {
            "text/plain": [
              "<sqlite3.Cursor at 0x7998f51e3dc0>"
            ]
          },
          "metadata": {},
          "execution_count": 3
        }
      ]
    },
    {
      "cell_type": "code",
      "source": [
        "# Delete any rows that were previously inserted\n",
        "cursor.execute('DELETE FROM ages')"
      ],
      "metadata": {
        "colab": {
          "base_uri": "https://localhost:8080/"
        },
        "id": "qaOh_Q4_gJ4F",
        "outputId": "3106e9e9-1f39-4e7a-ef39-f835866ffb5a"
      },
      "execution_count": 5,
      "outputs": [
        {
          "output_type": "execute_result",
          "data": {
            "text/plain": [
              "<sqlite3.Cursor at 0x7998f51e3dc0>"
            ]
          },
          "metadata": {},
          "execution_count": 5
        }
      ]
    },
    {
      "cell_type": "code",
      "source": [
        "# Insert the specified rows\n",
        "cursor.execute(\"INSERT INTO ages (name, age) VALUES ('Mara', 28)\")\n",
        "cursor.execute(\"INSERT INTO ages (name, age) VALUES ('Otto', 33)\")\n",
        "cursor.execute(\"INSERT INTO ages (name, age) VALUES ('Fyn', 31)\")\n",
        "cursor.execute(\"INSERT INTO ages (name, age) VALUES ('Neshawn', 17)\")\n"
      ],
      "metadata": {
        "colab": {
          "base_uri": "https://localhost:8080/"
        },
        "id": "Iibjl_uKhoOF",
        "outputId": "d475f169-77c3-44da-ef6f-e2442383927c"
      },
      "execution_count": 6,
      "outputs": [
        {
          "output_type": "execute_result",
          "data": {
            "text/plain": [
              "<sqlite3.Cursor at 0x7998f51e3dc0>"
            ]
          },
          "metadata": {},
          "execution_count": 6
        }
      ]
    },
    {
      "cell_type": "code",
      "source": [
        "# Commit the changes to the database\n",
        "connection.commit()"
      ],
      "metadata": {
        "id": "SQwgFspchvx6"
      },
      "execution_count": 7,
      "outputs": []
    },
    {
      "cell_type": "code",
      "source": [
        "# Run the SQL command to retrieve the hexadecimal representation\n",
        "cursor.execute(\"SELECT hex(name || age) AS X FROM Ages ORDER BY X\")"
      ],
      "metadata": {
        "colab": {
          "base_uri": "https://localhost:8080/"
        },
        "id": "dpACNM1Rh0A-",
        "outputId": "1258edad-2267-4c9a-ea9c-330941ebb6cf"
      },
      "execution_count": 8,
      "outputs": [
        {
          "output_type": "execute_result",
          "data": {
            "text/plain": [
              "<sqlite3.Cursor at 0x7998f51e3dc0>"
            ]
          },
          "metadata": {},
          "execution_count": 8
        }
      ]
    },
    {
      "cell_type": "code",
      "source": [
        "# Fetch the first row from the result set\n",
        "first_row = cursor.fetchone()"
      ],
      "metadata": {
        "id": "XHSrB1pch3_p"
      },
      "execution_count": 9,
      "outputs": []
    },
    {
      "cell_type": "code",
      "source": [
        "# Close the connection\n",
        "connection.close()"
      ],
      "metadata": {
        "id": "KFfwW72lh7s-"
      },
      "execution_count": 10,
      "outputs": []
    },
    {
      "cell_type": "code",
      "source": [
        "# Print the result\n",
        "if first_row:\n",
        "    print(f\"The first row in the resulting record set: {first_row[0]}\")\n",
        "else:\n",
        "    print(\"No rows found.\")"
      ],
      "metadata": {
        "colab": {
          "base_uri": "https://localhost:8080/"
        },
        "id": "qMK6g9F5h96c",
        "outputId": "bfaacc20-6b9a-4b34-f90b-9782ec323ffb"
      },
      "execution_count": 11,
      "outputs": [
        {
          "output_type": "stream",
          "name": "stdout",
          "text": [
            "The first row in the resulting record set: 46796E3331\n"
          ]
        }
      ]
    },
    {
      "cell_type": "code",
      "source": [],
      "metadata": {
        "id": "fIJhbXkZiD4N"
      },
      "execution_count": null,
      "outputs": []
    }
  ]
}